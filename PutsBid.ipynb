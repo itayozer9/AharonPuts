# StockOptions.ipynb

# Cell 1: Install Packages
!pip install requests beautifulsoup4

# Cell 2: Define Variables
# Define the expiration date and percentage
expiration_date = "2024-06-28"
percentage = 15

print(f"Using expiration date: {expiration_date} and percentage: {percentage}")

# Cell 3: Execute Script with Variables
# Read the putData.py file and execute it with defined variables
with open('putData.py') as f:
    code = f.read()

# Replace the placeholder in the script with defined variables
code = code.replace("PLACEHOLDER_EXPIRATION_DATE", expiration_date)
code = code.replace("PLACEHOLDER_PERCENTAGE", str(percentage))

exec(code)

# List files to verify the output
import os
print(os.listdir('output'))

# Cell 4: Download Output
from google.colab import files

# Adjust the file name if necessary
output_filename = f'output/options_data_{expiration_date}_{percentage}.csv'
files.download(output_filename)